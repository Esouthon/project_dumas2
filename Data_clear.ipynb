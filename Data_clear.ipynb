{
 "cells": [
  {
   "cell_type": "markdown",
   "metadata": {},
   "source": [
    "### Import"
   ]
  },
  {
   "cell_type": "code",
   "execution_count": 3,
   "metadata": {},
   "outputs": [],
   "source": [
    "import pandas as pd\n",
    "import csv\n",
    "import re\n",
    "import seaborn as sb\n",
    "import matplotlib.pyplot as plt\n",
    "import os "
   ]
  },
  {
   "cell_type": "markdown",
   "metadata": {},
   "source": [
    "### Fonction pour tranformer un fichier .txt en bloc de 512 mots"
   ]
  },
  {
   "cell_type": "code",
   "execution_count": 14,
   "metadata": {},
   "outputs": [],
   "source": [
    "import pandas as pd\n",
    "import re\n",
    "\n",
    "def create_dataframe_from_txt(file_path, label):\n",
    "    # Lire le contenu du fichier\n",
    "    with open(file_path, 'r', encoding='utf-8') as file:\n",
    "        content = file.read()\n",
    "\n",
    "    # Remplacer les retours à la ligne multiples par un seul espace pour éviter des divisions incomplètes\n",
    "    content = re.sub(r'\\n+', ' ', content)\n",
    "\n",
    "    # Diviser le contenu en phrases\n",
    "    sentences = re.split(r'(?<=[.!?]) +', content)\n",
    "\n",
    "    # Nettoyage des phrases (enlever les espaces inutiles)\n",
    "    sentences = [sentence.strip() for sentence in sentences if sentence.strip()]\n",
    "\n",
    "    # Créer le DataFrame avec les phrases et le label\n",
    "    df = pd.DataFrame({'Block': sentences, 'Label': [label] * len(sentences)})\n",
    "\n",
    "    return df\n"
   ]
  },
  {
   "cell_type": "markdown",
   "metadata": {},
   "source": [
    "### Tranformer le Comte"
   ]
  },
  {
   "cell_type": "code",
   "execution_count": 15,
   "metadata": {},
   "outputs": [
    {
     "name": "stdout",
     "output_type": "stream",
     "text": [
      "                                               Block  Label\n",
      "0  ﻿The Project Gutenberg eBook of Le comte de Mo...      0\n",
      "1  You may copy it, give it away or re-use it und...      0\n",
      "2  If you are not located in the United States, y...      0\n",
      "3  Title: Le comte de Monte-Cristo, Tome I Author...      0\n",
      "4                            II  Le père et le fils.      0\n",
      "Le fichier CSV a été sauvegardé sous le nom : Data csv/Le comte.csv\n"
     ]
    }
   ],
   "source": [
    "# Utilisation de la fonction\n",
    "filename = 'Data raw/Le comte.txt'\n",
    "df= create_dataframe_from_txt(filename,0)\n",
    "print(df.head())\n",
    "\n",
    "\n",
    "# Write the blocks to a CSV file\n",
    "output_csv = 'Data csv/Le comte.csv'\n",
    "df.to_csv(output_csv, index=False, encoding='utf-8')\n",
    "\n",
    "print(f\"Le fichier CSV a été sauvegardé sous le nom : {output_csv}\")"
   ]
  },
  {
   "cell_type": "markdown",
   "metadata": {},
   "source": [
    "### Tranformer les misérables"
   ]
  },
  {
   "cell_type": "code",
   "execution_count": 16,
   "metadata": {},
   "outputs": [
    {
     "name": "stdout",
     "output_type": "stream",
     "text": [
      "                                               Block  Label\n",
      "0  The Project Gutenberg eBook of Les misérables ...      1\n",
      "1  You may copy it, give it away or re-use it und...      1\n",
      "2  If you are not located in the United States, y...      1\n",
      "3  Title: Les misérables Tome IV: L'idylle rue Pl...      1\n",
      "4  Chapitre I Jean Valjean Chapitre II Marius Cha...      1\n",
      "Le fichier CSV a été sauvegardé sous le nom : Data csv/les misérables.csv\n"
     ]
    }
   ],
   "source": [
    "# Utilisation de la fonction\n",
    "filename = 'Data raw/les miserables.txt'\n",
    "df= create_dataframe_from_txt(filename,1)\n",
    "print(df.head())\n",
    "\n",
    "\n",
    "# Write the blocks to a CSV file\n",
    "output_csv = 'Data csv/les misérables.csv'\n",
    "df.to_csv(output_csv, index=False, encoding='utf-8')\n",
    "\n",
    "print(f\"Le fichier CSV a été sauvegardé sous le nom : {output_csv}\")\n"
   ]
  },
  {
   "cell_type": "markdown",
   "metadata": {},
   "source": [
    "### Tranformer Narval "
   ]
  },
  {
   "cell_type": "code",
   "execution_count": 17,
   "metadata": {},
   "outputs": [
    {
     "name": "stdout",
     "output_type": "stream",
     "text": [
      "                                               Block  Label\n",
      "0  ﻿The Project Gutenberg eBook of Le rêve et la ...      2\n",
      "1  You may copy it, give it away or re-use it und...      2\n",
      "2  If you are not located in the United States, y...      2\n",
      "3  Title: Le rêve et la vie - Les filles du feu -...      2\n",
      "4  MOOC's,         educational materials,...) Ima...      2\n",
      "Le fichier CSV a été sauvegardé sous le nom : Data csv/Narval Le reve et la vie.csv\n"
     ]
    }
   ],
   "source": [
    "# Utilisation de la fonction\n",
    "filename = 'Data raw/Narval Le reve et la vie.txt'\n",
    "df= create_dataframe_from_txt(filename,2)\n",
    "print(df.head())\n",
    "\n",
    "\n",
    "# Write the blocks to a CSV file\n",
    "output_csv = 'Data csv/Narval Le reve et la vie.csv'\n",
    "df.to_csv(output_csv, index=False, encoding='utf-8')\n",
    "\n",
    "print(f\"Le fichier CSV a été sauvegardé sous le nom : {output_csv}\")"
   ]
  },
  {
   "cell_type": "markdown",
   "metadata": {},
   "source": [
    "### Transformer Gautier "
   ]
  },
  {
   "cell_type": "code",
   "execution_count": 18,
   "metadata": {},
   "outputs": [
    {
     "name": "stdout",
     "output_type": "stream",
     "text": [
      "                                               Block  Label\n",
      "0  ﻿The Project Gutenberg eBook of Contes Françai...      3\n",
      "1  You may copy it, give it away or re-use it und...      3\n",
      "2  If you are not located in the United States, y...      3\n",
      "3  Title: Contes Français Editor: Douglas Labaree...      3\n",
      "4                                                 D.      3\n",
      "Le fichier CSV a été sauvegardé sous le nom : Data csv/Theophile gautier.csv\n"
     ]
    }
   ],
   "source": [
    "# Utilisation de la fonction\n",
    "filename = 'Data raw/Theophile gautier.txt'\n",
    "df= create_dataframe_from_txt(filename,3)\n",
    "print(df.head())\n",
    "\n",
    "# Write the blocks to a CSV file\n",
    "output_csv = 'Data csv/Theophile gautier.csv'\n",
    "df.to_csv(output_csv, index=False, encoding='utf-8')\n",
    "\n",
    "print(f\"Le fichier CSV a été sauvegardé sous le nom : {output_csv}\")"
   ]
  },
  {
   "cell_type": "markdown",
   "metadata": {},
   "source": [
    "### Combiner les fichiers"
   ]
  },
  {
   "cell_type": "code",
   "execution_count": 19,
   "metadata": {},
   "outputs": [],
   "source": [
    "def combine_csv_files(input_folder, output_filename):\n",
    "    # Lister tous les fichiers dans le dossier\n",
    "    files = [f for f in os.listdir(input_folder) if f.endswith('.csv')]\n",
    "    \n",
    "    # Initialiser une liste pour stocker les DataFrames\n",
    "    df_list = []\n",
    "    \n",
    "    # Lire chaque fichier CSV et l'ajouter à la liste\n",
    "    for file in files:\n",
    "        file_path = os.path.join(input_folder, file)\n",
    "        df = pd.read_csv(file_path)\n",
    "        df_list.append(df)\n",
    "    \n",
    "    # Concaténer tous les DataFrames en un seul\n",
    "    combined_df = pd.concat(df_list, ignore_index=True)\n",
    "    \n",
    "    # Sauvegarder le DataFrame combiné dans un fichier CSV\n",
    "    combined_df.to_csv(output_filename, index=False)"
   ]
  },
  {
   "cell_type": "code",
   "execution_count": 20,
   "metadata": {},
   "outputs": [
    {
     "name": "stdout",
     "output_type": "stream",
     "text": [
      "Les fichiers ont été combinés avec succès et la colonne 'Source' a été ajoutée.\n"
     ]
    }
   ],
   "source": [
    "# Exemple d'utilisation\n",
    "input_folder = 'Data csv'\n",
    "output_filename = 'Data clear/fichier_combiné.csv'\n",
    "combine_csv_files(input_folder, output_filename)\n",
    "\n",
    "print(\"Les fichiers ont été combinés avec succès et la colonne 'Source' a été ajoutée.\")\n"
   ]
  },
  {
   "cell_type": "code",
   "execution_count": null,
   "metadata": {},
   "outputs": [],
   "source": []
  }
 ],
 "metadata": {
  "kernelspec": {
   "display_name": "base",
   "language": "python",
   "name": "python3"
  },
  "language_info": {
   "codemirror_mode": {
    "name": "ipython",
    "version": 3
   },
   "file_extension": ".py",
   "mimetype": "text/x-python",
   "name": "python",
   "nbconvert_exporter": "python",
   "pygments_lexer": "ipython3",
   "version": "3.12.3"
  }
 },
 "nbformat": 4,
 "nbformat_minor": 2
}
